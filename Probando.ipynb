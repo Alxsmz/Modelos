{
  "nbformat": 4,
  "nbformat_minor": 0,
  "metadata": {
    "colab": {
      "provenance": [],
      "authorship_tag": "ABX9TyNSv2wcxlQ2M7lJ30AfFFK7",
      "include_colab_link": true
    },
    "kernelspec": {
      "name": "python3",
      "display_name": "Python 3"
    },
    "language_info": {
      "name": "python"
    }
  },
  "cells": [
    {
      "cell_type": "markdown",
      "metadata": {
        "id": "view-in-github",
        "colab_type": "text"
      },
      "source": [
        "<a href=\"https://colab.research.google.com/github/Alxsmz/Modelos/blob/Trabajo-1/Probando.ipynb\" target=\"_parent\"><img src=\"https://colab.research.google.com/assets/colab-badge.svg\" alt=\"Open In Colab\"/></a>"
      ]
    },
    {
      "cell_type": "markdown",
      "metadata": {
        "id": "WzpJq3ZrrDS3"
      },
      "source": [
        "\n",
        "## Setup code\n",
        "Run the following commands once (~2-3 mins).  It will replace your python2 jupyter kernel by R kernel.\n",
        "\n",
        "Then, go to menu **Runtime -> Manage Sessions -> TERMINATE**.  \n",
        "\n",
        "Finally, **RECONNECT**, skip **Setup** and  run **R Code** section."
      ]
    },
    {
      "cell_type": "code",
      "metadata": {
        "id": "84XnTkx80uv0"
      },
      "source": [
        "!apt-get install libssl-dev > /dev/null\n",
        "!wget https://repo.continuum.io/miniconda/Miniconda3-latest-Linux-x86_64.sh\n",
        "!chmod +x ./Miniconda3-latest-Linux-x86_64.sh\n",
        "!./Miniconda3-latest-Linux-x86_64.sh -b -p /conda  > /dev/null 2>&1 \n",
        "!/conda/bin/conda install -c r r-rstan r-irkernel gxx_linux-64 -y -q > /dev/null 2>&1\n",
        "!/conda/bin/R -e \"IRkernel::installspec(name = 'python2', displayname = 'R', user = FALSE)\"  > /dev/null 2>&1\n",
        "!mkdir /root/.R/\n",
        "!echo \"CXX14FLAGS=-O3 -mtune=native -march=native -Wno-ignored-attributes -Wno-deprecated-declarations\" > /root/.R/Makevars\n",
        "import os\n",
        "os._exit(00)\n"
      ],
      "execution_count": null,
      "outputs": []
    },
    {
      "cell_type": "markdown",
      "source": [
        "###Instalar librerías"
      ],
      "metadata": {
        "id": "2kP5DOJM8W3o"
      }
    },
    {
      "cell_type": "code",
      "source": [
        "Sys.setenv(PATH= paste(\"/conda/bin\" , Sys.getenv(\"PATH\"), sep = \":\" ) )\n",
        "install.packages('ggmap', repos='http://cran.rstudio.com/')\n",
        "\n",
        "install.packages('codetools', repos='http://cran.rstudio.com/')"
      ],
      "metadata": {
        "id": "Di2CVNLc9wZo"
      },
      "execution_count": null,
      "outputs": []
    },
    {
      "cell_type": "markdown",
      "source": [
        "## Verificar tu sesión\n",
        "Para saber si tu sesión es nueva o la anterior ha caducado, prueba a ejecutar este código:"
      ],
      "metadata": {
        "id": "GezZ_oh55otP"
      }
    },
    {
      "cell_type": "code",
      "source": [
        "%%R\n",
        "print(sessionInfo())"
      ],
      "metadata": {
        "id": "jNq6VcPX6Txt"
      },
      "execution_count": null,
      "outputs": []
    }
  ]
}